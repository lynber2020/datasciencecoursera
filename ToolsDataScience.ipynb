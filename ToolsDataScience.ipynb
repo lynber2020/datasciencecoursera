{
 "cells": [
  {
   "cell_type": "markdown",
   "metadata": {},
   "source": [
    "<center>\n",
    "    <img src=\"https://cf-courses-data.s3.us.cloud-object-storage.appdomain.cloud/IBMDeveloperSkillsNetwork-DS0105EN-SkillsNetwork/labs/Module2/images/SN_web_lightmode.png\" width=\"300\" alt=\"cognitiveclass.ai logo\">\n",
    "</center>\n"
   ]
  },
  {
   "cell_type": "markdown",
   "metadata": {},
   "source": [
    "#### Add your code below following the instructions given in the course\n"
   ]
  },
  {
   "cell_type": "markdown",
   "metadata": {},
   "source": [
    "# Tools for Data Science"
   ]
  },
  {
   "cell_type": "markdown",
   "metadata": {},
   "source": [
    "Introduction to multiple data science tools."
   ]
  },
  {
   "cell_type": "markdown",
   "metadata": {},
   "source": [
    "Some popular languages for Data Scientists use are:\n",
    "1. Python\n",
    "2. R\n",
    "3. SQL\n",
    "4. C++\n",
    "5. Java"
   ]
  },
  {
   "cell_type": "markdown",
   "metadata": {},
   "source": [
    "Commonly used for libraries by Data Scientists:\n",
    "1. Numpy.\n",
    "2. TensorFlor.\n",
    "3. SciPy.\n",
    "4. Pandas.\n",
    "5. Matplotlib.\n",
    "6. Keras.\n",
    "7. SciKit-Learn.\n",
    "8. PyTorch. etc..;"
   ]
  },
  {
   "cell_type": "markdown",
   "metadata": {},
   "source": [
    "|Data Science Tools|\n",
    "|----|\n",
    "|SAS|\n",
    "|Apache Hadoop|\n",
    "|Project Jupyter|\n",
    "|MATLAB|"
   ]
  },
  {
   "cell_type": "markdown",
   "metadata": {},
   "source": [
    "An arithmetic expression is a mathematical statement that combines numbers, variables, and arithmetic operations. Some examples of arithmetic expressions include: \n",
    "1. Simple arithmetic expressions\n",
    "These expressions only use the operators +, -, and exponentiation. \n",
    "For example, 5, (3 + 4), and (7 - 3) are all simple arithmetic expressions. \n",
    "2. Expressions with parentheses\n",
    "Parentheses indicate the order in which operations should be performed. \n",
    "For example, 6(3 + 4) indicates that the addition should be performed before the multiplication. \n",
    "3. Expressions with variables\n",
    "Variables are represented by letters, such as a, b, c, m, n, p, x, y, and z. \n",
    "For example, x − 3 is an expression that has a variable (x), a constant, and one operation (subtraction). "
   ]
  },
  {
   "cell_type": "code",
   "execution_count": 1,
   "metadata": {},
   "outputs": [
    {
     "data": {
      "text/plain": [
       "55"
      ]
     },
     "execution_count": 1,
     "metadata": {},
     "output_type": "execute_result"
    }
   ],
   "source": [
    "#common arithmetic example multiply and add integers\n",
    "(10*5)+5"
   ]
  },
  {
   "cell_type": "code",
   "execution_count": 5,
   "metadata": {},
   "outputs": [
    {
     "data": {
      "text/plain": [
       "5.833333333333333"
      ]
     },
     "execution_count": 5,
     "metadata": {},
     "output_type": "execute_result"
    }
   ],
   "source": [
    "#convert\n",
    "350/60"
   ]
  },
  {
   "cell_type": "markdown",
   "metadata": {},
   "source": [
    "__Objective__\n",
    "* List of Languages for Data Science\n",
    "* List of Libraries for Data Science\n",
    "* List of Data Science Tools\n",
    "* Provide Comments in the cell\n",
    "* List of projects using Python"
   ]
  },
  {
   "cell_type": "markdown",
   "metadata": {},
   "source": [
    "## Authur\n",
    "Beverlyn B. Sin-ot"
   ]
  }
 ],
 "metadata": {
  "kernelspec": {
   "display_name": "Python 3 (ipykernel)",
   "language": "python",
   "name": "python3"
  },
  "language_info": {
   "codemirror_mode": {
    "name": "ipython",
    "version": 3
   },
   "file_extension": ".py",
   "mimetype": "text/x-python",
   "name": "python",
   "nbconvert_exporter": "python",
   "pygments_lexer": "ipython3",
   "version": "3.11.9"
  }
 },
 "nbformat": 4,
 "nbformat_minor": 4
}
